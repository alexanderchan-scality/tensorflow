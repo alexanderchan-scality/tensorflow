{
 "cells": [
  {
   "cell_type": "markdown",
   "metadata": {},
   "source": [
    "Tensorflow code serves as a method of describing computational graphs. Like a blueprint, it does not execute the commands unless it is explicitly called, such as when using `tf.Session.run()`\n",
    "\n",
    "To visualize this graph, we can use Tensorboard. To use Tensorboard, make sure include `file_writer = tf.summary.FileWriter('summary/', graph=tf.get_default_graph)` after defining the model."
   ]
  },
  {
   "cell_type": "code",
   "execution_count": null,
   "metadata": {
    "collapsed": true
   },
   "outputs": [],
   "source": [
    "import tensorflow as tf\n",
    "import numpy as np\n",
    "\n"
   ]
  },
  {
   "cell_type": "markdown",
   "metadata": {},
   "source": [
    "Example:\n",
    "```python\n",
    "x = 1.0\n",
    "x = x + 1.5\n",
    "```\n",
    "\n",
    "Creating a constant"
   ]
  },
  {
   "cell_type": "code",
   "execution_count": null,
   "metadata": {
    "collapsed": true
   },
   "outputs": [],
   "source": [
    "c = tf.constant(1.5)"
   ]
  },
  {
   "cell_type": "markdown",
   "metadata": {},
   "source": [
    "Creating a variable"
   ]
  },
  {
   "cell_type": "code",
   "execution_count": null,
   "metadata": {
    "collapsed": true
   },
   "outputs": [],
   "source": [
    "x = tf.Variable(1.0, name='x')"
   ]
  },
  {
   "cell_type": "markdown",
   "metadata": {},
   "source": [
    "This creates 3 things in the graph: a node for the variable, an intial constant value for the variable, and an assignment operation for assigning the initial value to the variable.\n",
    "\n",
    "It is also important to note that, the python code for creating `tf.Variable` only declares the variable. `x` is not initialized until `tf.global_variables_initializer().run()` is executed."
   ]
  },
  {
   "cell_type": "code",
   "execution_count": null,
   "metadata": {
    "collapsed": false
   },
   "outputs": [],
   "source": [
    "tf.global_variables_initializer().run()\n",
    "# print (x)\n",
    "# print (sess.run(x))\n",
    "# print (c)\n",
    "# print (sess.run(c))"
   ]
  },
  {
   "cell_type": "code",
   "execution_count": null,
   "metadata": {
    "collapsed": false
   },
   "outputs": [],
   "source": [
    "tf.summary.FileWriter('summary/', graph=tf.get_default_graph())"
   ]
  },
  {
   "cell_type": "markdown",
   "metadata": {},
   "source": [
    "Creating the addition operation"
   ]
  },
  {
   "cell_type": "code",
   "execution_count": null,
   "metadata": {
    "collapsed": false
   },
   "outputs": [],
   "source": [
    "add_op = tf.add(x, c)\n",
    "#print (add_op)\n",
    "#print (sess.run(add_op))"
   ]
  },
  {
   "cell_type": "markdown",
   "metadata": {},
   "source": [
    "Creating the assignment operation"
   ]
  },
  {
   "cell_type": "code",
   "execution_count": null,
   "metadata": {
    "collapsed": true
   },
   "outputs": [],
   "source": [
    "assign_op = tf.assign(x, add_op)"
   ]
  },
  {
   "cell_type": "code",
   "execution_count": null,
   "metadata": {
    "collapsed": false
   },
   "outputs": [],
   "source": [
    "tf.summary.FileWriter('summary/', graph=tf.get_default_graph())"
   ]
  },
  {
   "cell_type": "markdown",
   "metadata": {},
   "source": [
    "To run the graph, we will just need to execute the `assign_op` operation."
   ]
  },
  {
   "cell_type": "code",
   "execution_count": null,
   "metadata": {
    "collapsed": false
   },
   "outputs": [],
   "source": [
    "print (sess.run(assign_op))"
   ]
  },
  {
   "cell_type": "markdown",
   "metadata": {},
   "source": [
    "The final code:\n",
    "```python\n",
    "import tensorflow as tf\n",
    "\n",
    "with tf.Graph().as_default() as g:\n",
    "  c = tf.constant(1.5)\n",
    "  x = tf.Variable(1.0, name=\"x\")\n",
    "  add_op = tf.add(x, c)\n",
    "  assign_op = tf.assign(x, add_op)\n",
    "  init = tf.initialize_all_variables()\n",
    "  with tf.Session() as sess:\n",
    "    sess.run(init)\n",
    "    sess.run(assign_op)\n",
    "    print(sess.run(x))\n",
    "```"
   ]
  },
  {
   "cell_type": "markdown",
   "metadata": {},
   "source": [
    "## Exercise: Implement the Fibonacci Sequence in TensorFlow\n",
    "\n",
    "In this exercise, your goal is to calculate the\n",
    "[Fibonacci sequence](https://en.wikipedia.org/wiki/Fibonacci_number) using\n",
    "tensors, where $fib(n) = fib(n-1) + fib(n-2)$, and $fib(0) = 0$ and\n",
    "$fib(1) = 1$. \n",
    "\n",
    "**Spend about 10 minutes on this exercise, then check the solution**\n",
    "\n",
    "To calculate this sequence, use the following two tensors:\n",
    "\n",
    "*   `fib_seq`, a 2x1 2D tensor `Variable` that represents the latest two values\n",
    "    of the Fibonacci sequence (the nth and (n-1)th). Initialize `fib_seq` with\n",
    "    the following two values: $\\begin{bmatrix}0.0\\\\1.0\\end{bmatrix}$\n",
    "*   `fib_matrix`, a constant 2x2 2D tensor that generates the next entries in\n",
    "    the Fibonacci sequence: $\\begin{bmatrix}0.0 & 1.0\\\\1.0 & 1.0\\end{bmatrix}$\n",
    "\n",
    "If you perform a matrix multiplication of `fib_matrix` and `fib_seq`, you get\n",
    "the next value in the sequence (the nth and the (n+1)th):\n",
    "\n",
    "$$\\begin{bmatrix}0.0 & 1.0\\\\1.0 & 1.0\\end{bmatrix}\n",
    "\\begin{bmatrix}0.0\\\\1.0\\end{bmatrix} = \\begin{bmatrix}1.0\\\\1.0\\end{bmatrix}$$\n",
    "\n",
    "Using matrix multiplication on `fib_matrix` and the previous result produces the\n",
    "next value: $\\begin{bmatrix}1.0\\\\2.0\\end{bmatrix}$. And so on.\n",
    "\n",
    "In the `fibonacci_seq` function (below), perform the following steps:\n",
    "\n",
    "*   Create `fib_seq`, the 2x1 2D tensor `Variable` to hold the current values of\n",
    "    the Fibonacci sequence.\n",
    "*   Perform the matrix multiplication of `fib_matrix` and `fib_seq` using\n",
    "    `tf.matmul()`, and assign the result back to `fib_seq` using `tf.assign()`.\n",
    "    [Examples here](https://www.tensorflow.org/versions/r0.10/get_started/basic_usage.html).\n"
   ]
  },
  {
   "cell_type": "code",
   "execution_count": null,
   "metadata": {
    "collapsed": false
   },
   "outputs": [],
   "source": [
    "import tensorflow as tf\n",
    "\n",
    "sess = None\n",
    "def resetSession():\n",
    "    tf.reset_default_graph()\n",
    "    global sess\n",
    "    if sess is not None: sess.close()\n",
    "    sess = tf.InteractiveSession()\n",
    "resetSession()\n",
    "\n",
    "# Add code that will calculate and output the Fibonacci sequence\n",
    "# using TF. You will need to make use of tf.matmul() and\n",
    "# tf.assign() to perform the multiplications and assign the result\n",
    "# back to the variable fib_seq.\n",
    "\n",
    "fib_matrix = tf.constant([[0.0, 1.0],\n",
    "                          [1.0, 1.0]])\n",
    "\n",
    "### SOLUTION START ###\n",
    "# Put your solution code here.\n",
    "\n",
    "# Step 1.\n",
    "# Change this line to initialize fib_seq to a 2x1 TensorFlow\n",
    "# tensor *Variable* with the initial values of 0.0 and 1.0. Hint:\n",
    "# You'll need to make sure you specify a 2D tensor of shape 2x1,\n",
    "# not a 1D tensor. See fib_matrix above (a 2x2 2D tensor) to guide\n",
    "# you.\n",
    "fib_sequence = None\n",
    "\n",
    "# Step 2.\n",
    "# Change this line to multiply fib_matrix and fib_sequence using tf.matmul()\n",
    "next_fib = None\n",
    "\n",
    "# Step 3.\n",
    "# Change this line to assign the result back to fib_sequence using tf.assign()\n",
    "assign_op = None\n",
    "\n",
    "### SOLUTION END ###\n",
    "init = tf.global_variables_initializer()\n",
    "\n",
    "tf.summary.FileWriter('summary/', graph=tf.get_default_graph())\n",
    "sess.run(init)\n",
    "for step in range(10):\n",
    "    sess.run(assign_op)\n",
    "    print(sess.run(fib_sequence))"
   ]
  },
  {
   "cell_type": "code",
   "execution_count": null,
   "metadata": {
    "collapsed": true
   },
   "outputs": [],
   "source": []
  }
 ],
 "metadata": {
  "kernelspec": {
   "display_name": "Python 2",
   "language": "python",
   "name": "python2"
  },
  "language_info": {
   "codemirror_mode": {
    "name": "ipython",
    "version": 2
   },
   "file_extension": ".py",
   "mimetype": "text/x-python",
   "name": "python",
   "nbconvert_exporter": "python",
   "pygments_lexer": "ipython2",
   "version": "2.7.13"
  }
 },
 "nbformat": 4,
 "nbformat_minor": 2
}
