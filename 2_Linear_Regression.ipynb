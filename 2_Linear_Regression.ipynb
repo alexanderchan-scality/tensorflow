{
 "cells": [
  {
   "cell_type": "markdown",
   "metadata": {},
   "source": [
    "This example will demonstrate linear regression."
   ]
  },
  {
   "cell_type": "code",
   "execution_count": null,
   "metadata": {
    "collapsed": true
   },
   "outputs": [],
   "source": [
    "import tensorflow as tf\n",
    "\n",
    "import numpy as np\n",
    "import math\n",
    "\n",
    "%matplotlib inline\n",
    "import pylab\n",
    "\n",
    "sess = None\n",
    "def resetSession():\n",
    "    tf.reset_default_graph()\n",
    "    global sess\n",
    "    if sess is not None: sess.close()\n",
    "    sess = tf.InteractiveSession()\n",
    "resetSession()"
   ]
  },
  {
   "cell_type": "code",
   "execution_count": null,
   "metadata": {
    "collapsed": false
   },
   "outputs": [],
   "source": [
    "# Create input data using NumPy. y = x * 0.1 + 0.3 + noise\n",
    "x_train = np.random.rand(100).astype(np.float32)\n",
    "noise = np.random.normal(scale=0.01, size=len(x_train))\n",
    "y_train = x_train * 0.1 + 0.3 + noise\n",
    "\n",
    "# Uncomment the following line to plot our input data.\n",
    "pylab.plot(x_train, y_train, '.')"
   ]
  },
  {
   "cell_type": "code",
   "execution_count": null,
   "metadata": {
    "collapsed": false
   },
   "outputs": [],
   "source": [
    "# Create some fake evaluation data\n",
    "x_eval = np.random.rand(len(x_train)).astype(np.float32)\n",
    "noise = np.random.normal(scale=0.01, size=len(x_train))\n",
    "y_eval = x_eval * 0.1 + 0.3 + noise\n",
    "\n",
    "# print (x_eval)\n",
    "# print (y_eval)"
   ]
  },
  {
   "cell_type": "code",
   "execution_count": null,
   "metadata": {
    "collapsed": false
   },
   "outputs": [],
   "source": [
    "# Build inference graph.\n",
    "# Create Variables W and b that compute y_data = W * x_data + b\n",
    "W = tf.Variable(tf.random_normal([1]), name='weights')\n",
    "b = tf.Variable(tf.random_normal([1]), name='bias')\n",
    "\n",
    "# Uncomment the following lines to see what W and b are.\n",
    "# print(W)\n",
    "# print(b)\n",
    "\n",
    "# Create a placeholder we'll use later to feed x's into the graph for training and eval.\n",
    "# shape=[None] means we can put in any number of examples. \n",
    "# This is used for minibatch training, and to evaluate a lot of examples at once.\n",
    "x = tf.placeholder(tf.float32, name='x')\n",
    "\n",
    "# Uncomment this line to see what x is\n",
    "print(x)\n",
    "\n",
    "# This is the same as tf.add(tf.mul(W, x), b), but looks nicer\n",
    "y = W * x + b"
   ]
  },
  {
   "cell_type": "markdown",
   "metadata": {},
   "source": [
    "At this point, we have:\n",
    "* x_train: x input features\n",
    "* y_train: observed y for each x that we will train on\n",
    "* x_eval, y_eval: Same as above, but a smaller set that we will not train on, and instead evaluate our effectiveness. "
   ]
  },
  {
   "cell_type": "code",
   "execution_count": null,
   "metadata": {
    "collapsed": true
   },
   "outputs": [],
   "source": [
    "sw = tf.summary.FileWriter('regression/', graph=tf.get_default_graph())"
   ]
  },
  {
   "cell_type": "code",
   "execution_count": null,
   "metadata": {
    "collapsed": true
   },
   "outputs": [],
   "source": [
    "# Create a placeholder we'll use later to feed the correct y value into the graph\n",
    "y_label = tf.placeholder(shape=[None], dtype=tf.float32, name='y_label')\n",
    "# print (y_label)"
   ]
  },
  {
   "cell_type": "code",
   "execution_count": null,
   "metadata": {
    "collapsed": true
   },
   "outputs": [],
   "source": [
    "# Build training graph.\n",
    "loss = tf.reduce_mean(tf.square(y - y_label))  # Create an operation that calculates loss.\n",
    "optimizer = tf.train.GradientDescentOptimizer(0.5)  # Create an optimizer.\n",
    "train = optimizer.minimize(loss)  # Create an operation that minimizes loss.\n",
    "\n",
    "# Uncomment the following 3 lines to see what 'loss', 'optimizer' and 'train' are.\n",
    "# print(\"loss:\", loss)\n",
    "# print(\"optimizer:\", optimizer)\n",
    "# print(\"train:\", train)"
   ]
  },
  {
   "cell_type": "code",
   "execution_count": null,
   "metadata": {
    "collapsed": true
   },
   "outputs": [],
   "source": [
    "tf.global_variables_initializer().run()\n",
    "\n",
    "def eval_loss():\n",
    "    return sess.run(loss, feed_dict={x: x_eval, y_label: y_eval})\n",
    "eval_loss()\n",
    "\n",
    "tf.summary.scalar('loss', loss)\n",
    "summary_op = tf.summary.merge_all()"
   ]
  },
  {
   "cell_type": "code",
   "execution_count": null,
   "metadata": {
    "collapsed": true
   },
   "outputs": [],
   "source": [
    "# Uncomment the following line to see the initial W and b values.\n",
    "# print(sess.run([W, b]))"
   ]
  },
  {
   "cell_type": "markdown",
   "metadata": {},
   "source": [
    "After 1 iteration:"
   ]
  },
  {
   "cell_type": "code",
   "execution_count": null,
   "metadata": {
    "collapsed": false
   },
   "outputs": [],
   "source": [
    "summary_str, _ = sess.run([summary_op, train], feed_dict={x: x_train, y_label: y_train})\n",
    "sw.add_summary(summary_str)\n",
    "\n",
    "pylab.plot(x_train, y_train, '.', label=\"target\")\n",
    "pylab.plot(x_train, sess.run(y, feed_dict={x: x_train, y_label: y_train}), label=\"predicted\")\n",
    "pylab.legend()"
   ]
  },
  {
   "cell_type": "markdown",
   "metadata": {},
   "source": [
    "After 50 iterations:"
   ]
  },
  {
   "cell_type": "code",
   "execution_count": null,
   "metadata": {
    "collapsed": false
   },
   "outputs": [],
   "source": [
    "for step in range(50):\n",
    "    summary_str, _ = sess.run([summary_op, train], feed_dict={x: x_train, y_label: y_train})\n",
    "    sw.add_summary(summary_str)\n",
    "\n",
    "pylab.plot(x_train, y_train, '.', label=\"target\")\n",
    "pylab.plot(x_train, sess.run(y, feed_dict={x: x_train, y_label: y_train}), label=\"predicted\")\n",
    "pylab.legend()"
   ]
  },
  {
   "cell_type": "markdown",
   "metadata": {},
   "source": [
    "After 200 iterations:"
   ]
  },
  {
   "cell_type": "code",
   "execution_count": null,
   "metadata": {
    "collapsed": false
   },
   "outputs": [],
   "source": [
    "for step in range(151):\n",
    "    summary_str, _ = sess.run([summary_op, train], feed_dict={x: x_train, y_label: y_train})\n",
    "    sw.add_summary(summary_str)\n",
    "\n",
    "pylab.plot(x_train, y_train, '.', label=\"target\")\n",
    "pylab.plot(x_train, sess.run(y, feed_dict={x: x_train, y_label: y_train}), label=\"predicted\")\n",
    "pylab.legend()"
   ]
  },
  {
   "cell_type": "markdown",
   "metadata": {},
   "source": [
    "After trainign our model, we can now query it for any given x"
   ]
  },
  {
   "cell_type": "code",
   "execution_count": null,
   "metadata": {
    "collapsed": true
   },
   "outputs": [],
   "source": [
    "def predict(x_in): return sess.run(y, feed_dict={x: [x_in]})"
   ]
  },
  {
   "cell_type": "code",
   "execution_count": null,
   "metadata": {
    "collapsed": false
   },
   "outputs": [],
   "source": [
    "predict(3)"
   ]
  },
  {
   "cell_type": "code",
   "execution_count": null,
   "metadata": {
    "collapsed": true
   },
   "outputs": [],
   "source": []
  }
 ],
 "metadata": {
  "kernelspec": {
   "display_name": "Python 2",
   "language": "python",
   "name": "python2"
  },
  "language_info": {
   "codemirror_mode": {
    "name": "ipython",
    "version": 2
   },
   "file_extension": ".py",
   "mimetype": "text/x-python",
   "name": "python",
   "nbconvert_exporter": "python",
   "pygments_lexer": "ipython2",
   "version": "2.7.13"
  }
 },
 "nbformat": 4,
 "nbformat_minor": 2
}
